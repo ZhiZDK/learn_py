{
 "cells": [
  {
   "cell_type": "markdown",
   "id": "64db875c",
   "metadata": {},
   "source": [
    "### 列表(list) 、元组(tuple)\n",
    "* Python 中 列表和元组中可以放置不同的元素类型\n",
    "* 列表可变，元组不可变\n",
    "* 都支持负数索引，-1是最后一个元素，-2是倒数第二个"
   ]
  },
  {
   "cell_type": "code",
   "execution_count": 1,
   "id": "74ba78ca",
   "metadata": {
    "ExecuteTime": {
     "end_time": "2025-03-18T01:04:10.994638500Z",
     "start_time": "2025-03-18T01:04:10.951370200Z"
    }
   },
   "outputs": [
    {
     "name": "stdout",
     "output_type": "stream",
     "text": [
      "my_list1: [1, 2, 3]\n",
      "my_list2: [4]\n"
     ]
    }
   ],
   "source": [
    "# 列表\n",
    "my_list1 = [1,2,3]\n",
    "print('my_list1:',my_list1)\n",
    "\n",
    "my_list2 = list()\n",
    "my_list2.append(4)\n",
    "print('my_list2:',my_list2)"
   ]
  },
  {
   "cell_type": "code",
   "execution_count": 2,
   "id": "d045a251",
   "metadata": {
    "ExecuteTime": {
     "end_time": "2025-03-16T10:27:10.379254600Z",
     "start_time": "2025-03-16T10:27:10.376254400Z"
    }
   },
   "outputs": [
    {
     "name": "stdout",
     "output_type": "stream",
     "text": [
      "tuple1: (1, 2, 3)\n",
      "empty_tuple: ()\n",
      "single_tuple: (1,)\n"
     ]
    }
   ],
   "source": [
    "# 元组\n",
    "tuple1 = (1,2,3)\n",
    "print('tuple1:', tuple1)\n",
    "\n",
    "empty_tuple = ()\n",
    "print('empty_tuple:', empty_tuple)\n",
    "\n",
    "single_tuple = (1,) # 单个元素后需要加逗号，以区分普通括号与元组\n",
    "print('single_tuple:', single_tuple)\n"
   ]
  },
  {
   "cell_type": "markdown",
   "source": [
    "### 字典(dict)与集合(set)\n",
    "* 字典是键值对组成的元素的集合\n",
    "    * **3.7之后是有序的**\n",
    "    * 3.7之前底层是一个二维数组\n",
    "    * 3.7之后底层是一个一维数组+一个二维数组\n",
    "* 集合是一系列无序的、唯一的元素集合\n",
    "* Python中字典与集合，无论是键还是值，都可以是混合类型"
   ],
   "metadata": {
    "collapsed": false
   }
  },
  {
   "cell_type": "code",
   "execution_count": 26,
   "outputs": [
    {
     "name": "stdout",
     "output_type": "stream",
     "text": [
      "d1: {'name': 'wzy', 'age': 20} \n",
      "d2: {'name': 'wzy', 'age': 20}\n",
      "name1: wzy \n",
      "name2: wzy\n",
      "gender is exist: False\n",
      "s1: {1, 2, 3}\n",
      "4 is exist: False\n"
     ]
    }
   ],
   "source": [
    "# 字典\n",
    "d1 = {'name':'wzy', 'age': 20}\n",
    "d2 = dict({'name': 'wzy', 'age': 20})\n",
    "print('d1:', d1, '\\nd2:', d2)\n",
    "\n",
    "# 从字典中取元素\n",
    "name1 = d1['name']\n",
    "name2 = d1.get('name')\n",
    "print('name1:', name1, '\\nname2:', name2)\n",
    "\n",
    "# 判断键是否存在\n",
    "d1['gender'] = 'male'\n",
    "d1.pop('gender')\n",
    "print('gender is exist:', 'gender' in d1)\n",
    "\n",
    "\n",
    "# 集合\n",
    "s1 = {1,2,3}\n",
    "s1.add(4)\n",
    "s1.remove(4)\n",
    "\n",
    "print('s1:', s1)\n",
    "print('4 is exist:', 4 in s1)"
   ],
   "metadata": {
    "collapsed": false,
    "ExecuteTime": {
     "end_time": "2025-03-16T10:49:52.113388Z",
     "start_time": "2025-03-16T10:49:52.109357300Z"
    }
   }
  }
 ],
 "metadata": {
  "kernelspec": {
   "display_name": "Python 3 (ipykernel)",
   "language": "python",
   "name": "python3"
  },
  "language_info": {
   "codemirror_mode": {
    "name": "ipython",
    "version": 3
   },
   "file_extension": ".py",
   "mimetype": "text/x-python",
   "name": "python",
   "nbconvert_exporter": "python",
   "pygments_lexer": "ipython3",
   "version": "3.11.4"
  }
 },
 "nbformat": 4,
 "nbformat_minor": 5
}
