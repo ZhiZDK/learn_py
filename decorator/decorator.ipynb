{
 "cells": [
  {
   "metadata": {},
   "cell_type": "markdown",
   "source": [
    "### 装饰器\n",
    "* **所谓装饰器，其实就是通过装饰器函数，来修改原函数的一些功能，使用原函数不需要修改**\n",
    "* Python中函数是一等公民，函数也是对象，可以赋值给变量\n",
    "* 函数也可以当做参数，传入另一个函数中\n",
    "* 可以在函数里定义函数\n",
    "* 函数的返回值也可以是函数(闭包)\n",
    "* `*args`和`**kwargs`表示接受任意数量和类型的参数"
   ],
   "id": "c645a2b1978edf98"
  },
  {
   "metadata": {
    "ExecuteTime": {
     "end_time": "2025-03-22T07:39:27.969622Z",
     "start_time": "2025-03-22T07:39:27.964409Z"
    }
   },
   "cell_type": "code",
   "source": [
    "import functools\n",
    "import time\n",
    "\n",
    "# 打印函数执行耗时\n",
    "def print_run_time(func):\n",
    "    @functools.wraps(func) # 保留函数的元信息\n",
    "    def wrapper(*args, **kwargs):\n",
    "        start = time.perf_counter()\n",
    "        result = func(*args, **kwargs)\n",
    "        end = time.perf_counter()\n",
    "        print('{} took {} ms'.format(func.__name__, (end - start) * 1000))\n",
    "        return result\n",
    "\n",
    "    return wrapper # 返回包装器函数\n",
    "\n",
    "@print_run_time\n",
    "def get_sum(a, b):\n",
    "    return a + b\n",
    "\n",
    "get_sum(2, 3)"
   ],
   "id": "3fbac848c87602bb",
   "outputs": [
    {
     "name": "stdout",
     "output_type": "stream",
     "text": [
      "get_sum took 0.0007999997251317836 ms\n"
     ]
    },
    {
     "data": {
      "text/plain": [
       "5"
      ]
     },
     "execution_count": 18,
     "metadata": {},
     "output_type": "execute_result"
    }
   ],
   "execution_count": 18
  }
 ],
 "metadata": {
  "kernelspec": {
   "display_name": "Python 3",
   "language": "python",
   "name": "python3"
  },
  "language_info": {
   "codemirror_mode": {
    "name": "ipython",
    "version": 2
   },
   "file_extension": ".py",
   "mimetype": "text/x-python",
   "name": "python",
   "nbconvert_exporter": "python",
   "pygments_lexer": "ipython2",
   "version": "2.7.6"
  }
 },
 "nbformat": 4,
 "nbformat_minor": 5
}
