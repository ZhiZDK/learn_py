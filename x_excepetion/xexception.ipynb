{
 "cells": [
  {
   "metadata": {},
   "cell_type": "markdown",
   "source": [
    "### 异常处理\n",
    "* finally中的语句快无论如何都会执行到"
   ],
   "id": "eceeae18be531aa6"
  },
  {
   "metadata": {
    "ExecuteTime": {
     "end_time": "2025-03-18T07:10:06.686595Z",
     "start_time": "2025-03-18T07:10:04.020712Z"
    }
   },
   "cell_type": "code",
   "source": [
    "try:\n",
    "    num1 = int(input('Enter a number: '))\n",
    "    num2 = int(input('Enter another number: '))\n",
    "    result = num1 / num2\n",
    "    print(result)\n",
    "except ZeroDivisionError:\n",
    "    print('Division by zero')\n",
    "except ValueError:\n",
    "    print('Invalid input')\n",
    "except: # 无法预估的异常\n",
    "    print('Something went wrong')\n",
    "finally:\n",
    "    print('Finally')"
   ],
   "id": "1e29089553a862f",
   "outputs": [
    {
     "name": "stdout",
     "output_type": "stream",
     "text": [
      "Invalid input\n",
      "Finally\n"
     ]
    }
   ],
   "execution_count": 3
  }
 ],
 "metadata": {
  "kernelspec": {
   "display_name": "Python 3",
   "language": "python",
   "name": "python3"
  },
  "language_info": {
   "codemirror_mode": {
    "name": "ipython",
    "version": 2
   },
   "file_extension": ".py",
   "mimetype": "text/x-python",
   "name": "python",
   "nbconvert_exporter": "python",
   "pygments_lexer": "ipython2",
   "version": "2.7.6"
  }
 },
 "nbformat": 4,
 "nbformat_minor": 5
}
