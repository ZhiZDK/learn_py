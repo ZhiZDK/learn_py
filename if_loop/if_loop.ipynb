{
 "cells": [
  {
   "metadata": {},
   "cell_type": "markdown",
   "source": [
    "### 条件与循环\n",
    "* Python不支持switch\n",
    "* 需要同时访问索引和元素，使用enumerate()简化代码"
   ],
   "id": "c1ee84f217b21bb1"
  },
  {
   "metadata": {},
   "cell_type": "markdown",
   "source": [
    "#### 条件语句"
   ],
   "id": "ae6aed16321878d3"
  },
  {
   "metadata": {
    "ExecuteTime": {
     "end_time": "2025-03-22T06:32:33.006296Z",
     "start_time": "2025-03-22T06:32:31.289310Z"
    }
   },
   "cell_type": "code",
   "source": [
    "# 条件语句 if\n",
    "a = int(input(\"Enter a number: \"))\n",
    "if a > 0:\n",
    "    print('大于0')\n",
    "elif a == 0:\n",
    "    print('等于0')\n",
    "else:\n",
    "    print('小于0')"
   ],
   "id": "1ac19d96c5831936",
   "outputs": [
    {
     "name": "stdout",
     "output_type": "stream",
     "text": [
      "大于0\n"
     ]
    }
   ],
   "execution_count": 3
  },
  {
   "metadata": {},
   "cell_type": "markdown",
   "source": [
    "#### 循环语句"
   ],
   "id": "9da9ba8511f55b01"
  },
  {
   "metadata": {
    "ExecuteTime": {
     "end_time": "2025-03-18T05:28:17.459313Z",
     "start_time": "2025-03-18T05:28:17.452592Z"
    }
   },
   "cell_type": "code",
   "source": [
    "# 循环列表\n",
    "nums = [1, 2, 3, 4, 5, 6, 7, 8, 9]\n",
    "for num in nums: # 元素\n",
    "    print('按列表元素值循环:{}'.format(num))\n",
    "\n",
    "\n",
    "for index in range(len(nums)): # 索引\n",
    "    print('按列表索引循环，索引:{}, 值:{}'.format(index, nums[index]))\n",
    "\n",
    "for index, num in enumerate(nums): # 同时访问索引与元素\n",
    "    print('使用enumerate简化，索引:{},值:{}'.format(index, num))"
   ],
   "id": "a07392500c801c17",
   "outputs": [
    {
     "name": "stdout",
     "output_type": "stream",
     "text": [
      "按列表元素值循环:1\n",
      "按列表元素值循环:2\n",
      "按列表元素值循环:3\n",
      "按列表元素值循环:4\n",
      "按列表元素值循环:5\n",
      "按列表元素值循环:6\n",
      "按列表元素值循环:7\n",
      "按列表元素值循环:8\n",
      "按列表元素值循环:9\n",
      "按列表索引循环，索引:0, 值:1\n",
      "按列表索引循环，索引:1, 值:2\n",
      "按列表索引循环，索引:2, 值:3\n",
      "按列表索引循环，索引:3, 值:4\n",
      "按列表索引循环，索引:4, 值:5\n",
      "按列表索引循环，索引:5, 值:6\n",
      "按列表索引循环，索引:6, 值:7\n",
      "按列表索引循环，索引:7, 值:8\n",
      "按列表索引循环，索引:8, 值:9\n",
      "使用enumerate简化，索引:0,值:1\n",
      "使用enumerate简化，索引:1,值:2\n",
      "使用enumerate简化，索引:2,值:3\n",
      "使用enumerate简化，索引:3,值:4\n",
      "使用enumerate简化，索引:4,值:5\n",
      "使用enumerate简化，索引:5,值:6\n",
      "使用enumerate简化，索引:6,值:7\n",
      "使用enumerate简化，索引:7,值:8\n",
      "使用enumerate简化，索引:8,值:9\n"
     ]
    }
   ],
   "execution_count": 15
  },
  {
   "metadata": {
    "ExecuteTime": {
     "end_time": "2025-03-18T05:27:55.821909Z",
     "start_time": "2025-03-18T05:27:55.816976Z"
    }
   },
   "cell_type": "code",
   "source": [
    "# 循环字典\n",
    "d = {'a': 1, 'b': 2, 'c': 3, 'd': 4, 'e': 5}\n",
    "for k in d: # 遍历键\n",
    "    print('遍历键，键:{},值:{}'.format(k, d[k]))\n",
    "\n",
    "print(\"-----------\")\n",
    "\n",
    "for key, value in d.items(): # 遍历键值对\n",
    "    print('遍历键值对,键:{},值:{}'.format(key, value))"
   ],
   "id": "fbba6381f93be1aa",
   "outputs": [
    {
     "name": "stdout",
     "output_type": "stream",
     "text": [
      "遍历键，键:a,值:1\n",
      "遍历键，键:b,值:2\n",
      "遍历键，键:c,值:3\n",
      "遍历键，键:d,值:4\n",
      "遍历键，键:e,值:5\n",
      "-----------\n",
      "遍历键值对,键:a,值:1\n",
      "遍历键值对,键:b,值:2\n",
      "遍历键值对,键:c,值:3\n",
      "遍历键值对,键:d,值:4\n",
      "遍历键值对,键:e,值:5\n"
     ]
    }
   ],
   "execution_count": 14
  },
  {
   "metadata": {},
   "cell_type": "code",
   "outputs": [],
   "execution_count": null,
   "source": [],
   "id": "f46868fd02e6bbfa"
  }
 ],
 "metadata": {
  "kernelspec": {
   "display_name": "Python 3",
   "language": "python",
   "name": "python3"
  },
  "language_info": {
   "codemirror_mode": {
    "name": "ipython",
    "version": 2
   },
   "file_extension": ".py",
   "mimetype": "text/x-python",
   "name": "python",
   "nbconvert_exporter": "python",
   "pygments_lexer": "ipython2",
   "version": "2.7.6"
  }
 },
 "nbformat": 4,
 "nbformat_minor": 5
}
