{
 "cells": [
  {
   "metadata": {},
   "cell_type": "markdown",
   "source": [
    "### 匿名函数 Lambda\n",
    "* 格式 lambda arg1, arg2,...argN : expression\n",
    "* lambda专注于简单的任务，而常规函数则负责更复杂的多行逻辑\n",
    "* lambda是一个表达式，不是一个语句\n",
    "    * 表达式是用一系列“公式”去表达一个东西，比如：`x+2`、`x**2`\n",
    "    * 语句则一定是完成了某些功能，比如赋值语句 `x = 1`\n",
    "* lambda的主体是只有一行的简单表达式，不能扩展成多行"
   ],
   "id": "69089f38394b25b0"
  },
  {
   "metadata": {
    "ExecuteTime": {
     "end_time": "2025-03-18T11:59:47.681827Z",
     "start_time": "2025-03-18T11:59:47.676709Z"
    }
   },
   "cell_type": "code",
   "source": [
    "[(lambda x: x*x)(y) for y in range(10)]"
   ],
   "id": "cfe6c3c3e548b3f0",
   "outputs": [
    {
     "data": {
      "text/plain": [
       "[0, 1, 4, 9, 16, 25, 36, 49, 64, 81]"
      ]
     },
     "execution_count": 1,
     "metadata": {},
     "output_type": "execute_result"
    }
   ],
   "execution_count": 1
  },
  {
   "metadata": {
    "ExecuteTime": {
     "end_time": "2025-03-18T12:02:16.489459Z",
     "start_time": "2025-03-18T12:02:16.482235Z"
    }
   },
   "cell_type": "code",
   "source": [
    "l = [(1,20), (3, 0), (9, 10)]\n",
    "l.sort(key=lambda x: x[1]) # 按列表中元组的第二个元素排序\n",
    "print(l)"
   ],
   "id": "63a052b9c4c0ea8e",
   "outputs": [
    {
     "name": "stdout",
     "output_type": "stream",
     "text": [
      "[(3, 0), (9, 10), (1, 20)]\n"
     ]
    }
   ],
   "execution_count": 5
  },
  {
   "metadata": {},
   "cell_type": "markdown",
   "source": [
    "### 函数式编程\n",
    "* 所谓函数式编程，是指代码中每一块都是不可变，都由纯函数的形式组成。\n",
    "    * 纯函数是指函数本身相互独立、互不影响，对于相同的输入，总会有相同的输出\n",
    "* Python主要提供了`map()`、`filter()`和`reduce()`，通常结合lambda一起使用\n",
    "    * `map(function, iterable)`:对 iterable 中每个元素，都运用 function 这个函数，最后返回一个新的可遍历集合\n",
    "    * `filter(function, iterable)`: 对 iterable 中每个元素，都使用 function 判断，并返回 True 或 False，最后将返回为 True 的元素组成一个可遍历的集合\n",
    "    * `reduce(function, iterable)`: 对 iterable 中的每个元素以及上一次调用后的结果，运用 function 进行计算，所以最后返回的是一个单独的数值"
   ],
   "id": "b90bdf5ca6224a3"
  },
  {
   "metadata": {
    "ExecuteTime": {
     "end_time": "2025-03-18T12:15:02.303703Z",
     "start_time": "2025-03-18T12:15:02.297541Z"
    }
   },
   "cell_type": "code",
   "source": [
    "# map\n",
    "l = [1,2,3,4,5]\n",
    "new_list = map(lambda x:x*x, l)\n",
    "print(list(new_list))"
   ],
   "id": "b8ff513ceea1e025",
   "outputs": [
    {
     "name": "stdout",
     "output_type": "stream",
     "text": [
      "[1, 4, 9, 16, 25]\n"
     ]
    }
   ],
   "execution_count": 13
  },
  {
   "metadata": {
    "ExecuteTime": {
     "end_time": "2025-03-18T12:17:28.787954Z",
     "start_time": "2025-03-18T12:17:28.783059Z"
    }
   },
   "cell_type": "code",
   "source": [
    "# filter\n",
    "l = [1,2,3,4,5]\n",
    "new_list = filter(lambda x: x % 2 == 0, l)\n",
    "print(list(new_list))"
   ],
   "id": "cb792b3daf4e299f",
   "outputs": [
    {
     "name": "stdout",
     "output_type": "stream",
     "text": [
      "[2, 4]\n"
     ]
    }
   ],
   "execution_count": 14
  },
  {
   "metadata": {
    "ExecuteTime": {
     "end_time": "2025-03-18T12:23:08.957420Z",
     "start_time": "2025-03-18T12:23:08.951015Z"
    }
   },
   "cell_type": "code",
   "source": [
    "from functools import reduce\n",
    "\n",
    "# reduce\n",
    "l = [1,2,3,4,5]\n",
    "ret = reduce(lambda x, y: x*y, l) # = 1*2*3*4*5\n",
    "print(ret)"
   ],
   "id": "3ec23ac833c922ca",
   "outputs": [
    {
     "name": "stdout",
     "output_type": "stream",
     "text": [
      "120\n"
     ]
    }
   ],
   "execution_count": 19
  },
  {
   "metadata": {
    "ExecuteTime": {
     "end_time": "2025-03-18T12:27:44.006212Z",
     "start_time": "2025-03-18T12:27:44.000097Z"
    }
   },
   "cell_type": "code",
   "source": [
    "# 根据字典的value进行排序\n",
    "d = {'a':10, 'b':2, 'c':30}\n",
    "d = sorted(d.items(), key=lambda x:x[1], reverse=True)\n",
    "print(d)"
   ],
   "id": "6801a9005500e93e",
   "outputs": [
    {
     "name": "stdout",
     "output_type": "stream",
     "text": [
      "[('c', 30), ('a', 10), ('b', 2)]\n"
     ]
    }
   ],
   "execution_count": 34
  }
 ],
 "metadata": {
  "kernelspec": {
   "display_name": "Python 3",
   "language": "python",
   "name": "python3"
  },
  "language_info": {
   "codemirror_mode": {
    "name": "ipython",
    "version": 2
   },
   "file_extension": ".py",
   "mimetype": "text/x-python",
   "name": "python",
   "nbconvert_exporter": "python",
   "pygments_lexer": "ipython2",
   "version": "2.7.6"
  }
 },
 "nbformat": 4,
 "nbformat_minor": 5
}
