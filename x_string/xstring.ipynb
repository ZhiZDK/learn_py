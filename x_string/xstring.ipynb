{
 "cells": [
  {
   "metadata": {},
   "cell_type": "markdown",
   "source": [
    "### 字符串\n",
    "* 字符串**不可变**，'+='操作是个例外\n",
    "* 支持索引、切片和遍历等操作\n",
    "* 单引号、双引号、三引号意义相同，三引号通常用于多行"
   ],
   "id": "35069bc7b870d491"
  },
  {
   "metadata": {
    "ExecuteTime": {
     "end_time": "2025-03-18T07:05:29.166833Z",
     "start_time": "2025-03-18T07:05:29.162156Z"
    }
   },
   "cell_type": "code",
   "source": [
    "str = 'xhello worldx'\n",
    "print(str)\n",
    "print(str.strip('x'))\n",
    "print('uid:{}, name:{}'.format(1, 'xiaoming'))"
   ],
   "id": "a4ef74439ab7799a",
   "outputs": [
    {
     "name": "stdout",
     "output_type": "stream",
     "text": [
      "xhello worldx\n",
      "hello world\n",
      "uid:1, name:xiaoming\n"
     ]
    }
   ],
   "execution_count": 1
  },
  {
   "metadata": {},
   "cell_type": "code",
   "outputs": [],
   "execution_count": null,
   "source": "",
   "id": "548d8c5005d8b23a"
  }
 ],
 "metadata": {
  "kernelspec": {
   "display_name": "Python 3",
   "language": "python",
   "name": "python3"
  },
  "language_info": {
   "codemirror_mode": {
    "name": "ipython",
    "version": 2
   },
   "file_extension": ".py",
   "mimetype": "text/x-python",
   "name": "python",
   "nbconvert_exporter": "python",
   "pygments_lexer": "ipython2",
   "version": "2.7.6"
  }
 },
 "nbformat": 4,
 "nbformat_minor": 5
}
