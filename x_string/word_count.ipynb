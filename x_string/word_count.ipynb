{
 "cells": [
  {
   "cell_type": "code",
   "execution_count": null,
   "id": "initial_id",
   "metadata": {
    "collapsed": true
   },
   "outputs": [],
   "source": [
    "import re\n",
    "\n",
    "def parse(text):\n",
    "    text = re.sub(r'[^\\w]', '', text)\n",
    "    text = text.lower()\n",
    "    \n",
    "    # 生成所有单词列表\n",
    "    words = text.split(' ')\n",
    "    \n",
    "    # 去除空白单词\n",
    "    words = filter(None, words)\n",
    "    \n",
    "    # 生成 单词->词频 的字典\n",
    "    word_cnt = {}\n",
    "    for word in words:\n",
    "        if word not in word_cnt:\n",
    "            word_cnt[word] = 0\n",
    "        word_cnt[word] += 1\n",
    "        \n",
    "    # 按照词频排序\n",
    "    sorted_word_cnt = sorted(word_cnt.items(), key=lambda kv:kv[1], reverse=True)\n",
    "    return sorted_word_cnt"
   ]
  }
 ],
 "metadata": {
  "kernelspec": {
   "display_name": "Python 3",
   "language": "python",
   "name": "python3"
  },
  "language_info": {
   "codemirror_mode": {
    "name": "ipython",
    "version": 2
   },
   "file_extension": ".py",
   "mimetype": "text/x-python",
   "name": "python",
   "nbconvert_exporter": "python",
   "pygments_lexer": "ipython2",
   "version": "2.7.6"
  }
 },
 "nbformat": 4,
 "nbformat_minor": 5
}
