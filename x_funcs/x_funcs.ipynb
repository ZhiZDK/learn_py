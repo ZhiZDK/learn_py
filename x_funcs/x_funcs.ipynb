{
 "cells": [
  {
   "metadata": {},
   "cell_type": "markdown",
   "source": [
    "### 函数\n",
    "* Python是动态类型的，对函数参数来说也适用，但是必要时需要加上类型检查以免出错\n",
    "* Python函数参数可以设置默认值\n",
    "* 支持函数嵌套\n",
    "* 不可以在函数内部随意改变全局变量的值，如果一定要修改，必须加上 `global` 声明\n",
    "* 闭包：返回一个函数，合理使用可以简化程序复杂性"
   ],
   "id": "9a1ff7827fb4b7f6"
  },
  {
   "metadata": {
    "ExecuteTime": {
     "end_time": "2025-03-22T07:13:30.608091Z",
     "start_time": "2025-03-22T07:13:30.602285Z"
    }
   },
   "cell_type": "code",
   "source": [
    "# 闭包\n",
    "def nth_power(exponent):\n",
    "    def exponent_of(base):\n",
    "        return base ** exponent\n",
    "    return exponent_of\n",
    "\n",
    "square = nth_power(2) # 平方\n",
    "cube = nth_power(3) # 三次方\n",
    "\n",
    "print(square(2))\n",
    "print(cube(2))"
   ],
   "id": "5ea13e1020ce8fe8",
   "outputs": [
    {
     "name": "stdout",
     "output_type": "stream",
     "text": [
      "4\n",
      "8\n"
     ]
    }
   ],
   "execution_count": 1
  }
 ],
 "metadata": {
  "kernelspec": {
   "display_name": "Python 3",
   "language": "python",
   "name": "python3"
  },
  "language_info": {
   "codemirror_mode": {
    "name": "ipython",
    "version": 2
   },
   "file_extension": ".py",
   "mimetype": "text/x-python",
   "name": "python",
   "nbconvert_exporter": "python",
   "pygments_lexer": "ipython2",
   "version": "2.7.6"
  }
 },
 "nbformat": 4,
 "nbformat_minor": 5
}
