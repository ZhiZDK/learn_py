{
 "cells": [
  {
   "metadata": {},
   "cell_type": "markdown",
   "source": [
    "### 浅拷贝与深拷贝\n",
    "* `==`:比较值是否相等，`is`:比较内存地址是否相等\n",
    "* `is`效率优于`==`,因为`is`无法被重载，执行`is`只是简单的获取对象的ID,`==`会递归地遍历对象的所有值\n",
    "* 浅拷贝中的元素，是原对象中成员的引用，因此，如果原对象中元素可变，改变其也会影响拷贝后的对象，存在一定副作用\n",
    "* 深拷贝会递归的拷贝原对象中的每一个成员，因此拷贝后的对象和原对象互不相关"
   ],
   "id": "1358bfa22cfe799a"
  },
  {
   "metadata": {},
   "cell_type": "markdown",
   "source": [
    "### 参数传递\n",
    "* Python中变量赋值，是将变量指向某个对象，并不表示拷贝对象给变量；一个对象可以被多个变量所指向\n",
    "* 可变对象(列表、字典、集合)的改变，会影响所有指向该对象的变量\n",
    "* Python的参数传递是**赋值传递**,或者叫做对象的**引用传递**。Python里所有的数据类型都是对象，所以参数传递时，只是让新变量与原变量指向相同的对象而已，并不存在值传递或是引用传递一说\n",
    "* 实际使用中，如果想通过一个函数改变某个变量的值，最好是通过函数返回值来给原变量重新赋值"
   ],
   "id": "1c0643826b50d563"
  },
  {
   "metadata": {},
   "cell_type": "code",
   "outputs": [],
   "execution_count": null,
   "source": "",
   "id": "483904bd865d4cab"
  }
 ],
 "metadata": {
  "kernelspec": {
   "display_name": "Python 3",
   "language": "python",
   "name": "python3"
  },
  "language_info": {
   "codemirror_mode": {
    "name": "ipython",
    "version": 2
   },
   "file_extension": ".py",
   "mimetype": "text/x-python",
   "name": "python",
   "nbconvert_exporter": "python",
   "pygments_lexer": "ipython2",
   "version": "2.7.6"
  }
 },
 "nbformat": 4,
 "nbformat_minor": 5
}
