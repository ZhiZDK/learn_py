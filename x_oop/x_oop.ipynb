{
 "cells": [
  {
   "metadata": {},
   "cell_type": "markdown",
   "source": [
    "### 面向对象\n",
    "* __init__ 是构造函数，对象生成时会被自动调用的函数\n",
    "* __ 开头的是私有属性\n",
    "* 在类中定义常量，一般用全大写\n",
    "* `@staticmethod`表示静态函数，一般用来做些简单的任务\n",
    "* `@classmethod`表示类函数，第一个参数一般为 `cls` 表示必须传一个类进来。类函数最常用的功能是实现不同的 `init` 构造函数\n",
    "* 成员函数，不需要装饰器声明，第一个参数`self`代表当前对象的引用"
   ],
   "id": "a5737b626596138a"
  },
  {
   "metadata": {},
   "cell_type": "markdown",
   "source": [
    "#### 继承\n",
    "* 每个类都有构造函数，继承类在生成对象的时候，不会自动调用父类的构造函数，因此必须在`init`函数中显示调用父类的构造函数。执行顺序时 子类构造函数 -> 父类构造函数"
   ],
   "id": "790592772fdf68f0"
  },
  {
   "metadata": {
    "ExecuteTime": {
     "end_time": "2025-03-19T05:11:12.634166Z",
     "start_time": "2025-03-19T05:11:12.629462Z"
    }
   },
   "cell_type": "code",
   "source": [
    "class Doc():\n",
    "    WELCOME_STR = 'Welcome to Doc, {}'\n",
    "    def __init__(self, title, author, context):\n",
    "        print('init doc')\n",
    "        self.title = title\n",
    "        self.author = author\n",
    "        self.__context = context # 表示私有属性\n",
    "        \n",
    "    # 类函数\n",
    "    @classmethod\n",
    "    def create(cls, title, author):\n",
    "        return cls(title, author, context='Nothing')\n",
    "    \n",
    "    # 成员函数\n",
    "    def get_context_length(self):\n",
    "        return len(self.__context)\n",
    "    \n",
    "    # 静态函数\n",
    "    @staticmethod\n",
    "    def get_welcome(context):\n",
    "        return Doc.WELCOME_STR.format(context)\n",
    "    \n",
    "empty_book = Doc.create('Book1', 'wzy')\n",
    "print(empty_book.get_context_length())\n",
    "print(empty_book.get_welcome('Book1'))"
   ],
   "id": "8097b85f70ddfe0d",
   "outputs": [
    {
     "name": "stdout",
     "output_type": "stream",
     "text": [
      "init doc\n",
      "7\n",
      "Welcome to Doc, Book1\n"
     ]
    }
   ],
   "execution_count": 4
  },
  {
   "metadata": {},
   "cell_type": "markdown",
   "source": [
    "#### 抽象类（接口）\n",
    "* 抽象类生来就是做为父类存在的，不允许被对象化。抽象函数定义在抽象类中，子类必须重写该函数才能使用\n",
    "* 抽象函数使用`@abstractmethod`表示"
   ],
   "id": "be778982f4f52e36"
  }
 ],
 "metadata": {
  "kernelspec": {
   "display_name": "Python 3",
   "language": "python",
   "name": "python3"
  },
  "language_info": {
   "codemirror_mode": {
    "name": "ipython",
    "version": 2
   },
   "file_extension": ".py",
   "mimetype": "text/x-python",
   "name": "python",
   "nbconvert_exporter": "python",
   "pygments_lexer": "ipython2",
   "version": "2.7.6"
  }
 },
 "nbformat": 4,
 "nbformat_minor": 5
}
